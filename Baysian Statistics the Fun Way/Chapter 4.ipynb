{
 "cells": [
  {
   "cell_type": "code",
   "execution_count": 1,
   "metadata": {},
   "outputs": [],
   "source": [
    "import math"
   ]
  },
  {
   "cell_type": "code",
   "execution_count": 2,
   "metadata": {},
   "outputs": [],
   "source": [
    "def binomial_coefficient(n: int, k: int) -> int:\n",
    "    return math.factorial(n) / (math.factorial(k) * math.factorial(n - k))"
   ]
  },
  {
   "cell_type": "code",
   "execution_count": 3,
   "metadata": {},
   "outputs": [],
   "source": [
    "assert binomial_coefficient(1, 1) == 1\n",
    "assert binomial_coefficient(4, 1) == 4\n",
    "assert binomial_coefficient(4, 4) == 1"
   ]
  },
  {
   "cell_type": "code",
   "execution_count": 4,
   "metadata": {},
   "outputs": [],
   "source": [
    "def binomial_distribution(p: float, n: int, k: int) -> float:\n",
    "    return binomial_coefficient(n, k) * p ** k * (1.0 - p) ** (n - k)"
   ]
  },
  {
   "cell_type": "code",
   "execution_count": 5,
   "metadata": {},
   "outputs": [
    {
     "name": "stdout",
     "output_type": "stream",
     "text": [
      "0.5\n",
      "0.009765625\n",
      "0.24609375\n",
      "0.0014880348000000005\n"
     ]
    }
   ],
   "source": [
    "print(binomial_distribution(0.5, 1, 1))\n",
    "print(binomial_distribution(0.5, 10, 1))\n",
    "print(binomial_distribution(0.5, 10, 5))\n",
    "print(binomial_distribution(0.1, 10, 5))"
   ]
  },
  {
   "cell_type": "code",
   "execution_count": 6,
   "metadata": {},
   "outputs": [],
   "source": [
    "def binomial_distribution_ge(p: float, n: int, k_lower: int) -> float:\n",
    "    return sum([\n",
    "        binomial_distribution(p, n, k)\n",
    "        for k in range(k_lower, n + 1)\n",
    "    ])"
   ]
  },
  {
   "cell_type": "code",
   "execution_count": 7,
   "metadata": {},
   "outputs": [
    {
     "name": "stdout",
     "output_type": "stream",
     "text": [
      "0.4232832000000002\n"
     ]
    }
   ],
   "source": [
    "print(binomial_distribution_ge(0.2, 7, 2))"
   ]
  },
  {
   "cell_type": "code",
   "execution_count": 8,
   "metadata": {},
   "outputs": [
    {
     "name": "stdout",
     "output_type": "stream",
     "text": [
      "0.7287940935386341\n"
     ]
    }
   ],
   "source": [
    "print(binomial_distribution_ge(0.1, 25, 2))"
   ]
  }
 ],
 "metadata": {
  "kernelspec": {
   "display_name": "Python 3",
   "language": "python",
   "name": "python3"
  },
  "language_info": {
   "codemirror_mode": {
    "name": "ipython",
    "version": 3
   },
   "file_extension": ".py",
   "mimetype": "text/x-python",
   "name": "python",
   "nbconvert_exporter": "python",
   "pygments_lexer": "ipython3",
   "version": "3.8.5"
  }
 },
 "nbformat": 4,
 "nbformat_minor": 4
}
